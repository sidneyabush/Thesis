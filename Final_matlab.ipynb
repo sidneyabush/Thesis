{
 "cells": [
  {
   "cell_type": "markdown",
   "metadata": {},
   "source": [
    "# STA Final Project\n",
    "## Impact of land-use change on runoff generation within the Panama Canal Watershed\n",
    "#### December 13, 2016\n",
    "#### Sidney Bush"
   ]
  },
  {
   "cell_type": "markdown",
   "metadata": {},
   "source": [
    "## Introduction "
   ]
  },
  {
   "cell_type": "markdown",
   "metadata": {},
   "source": [
    "### Project Background"
   ]
  },
  {
   "cell_type": "markdown",
   "metadata": {},
   "source": [
    "Since European development in the tropics, land-use and land-cover have changed dramatically with conversion of forests to subsistence farms and cattle pastures [1]. Human land-use decisions alter vegetation and soil structure that determine hydrologic flow paths and storage; however, the impacts of land-use change on water quality and quantity remain poorly understood. In many tropical regions anthropogenic water shortages are already common, and there is a high likelihood of further stress from longer dry seasons and more frequent, high intensity storms caused by accelerating climate change. Research in Panama, an area exemplary of land-use change in the tropics, presents two paradoxes regarding the connections between land-use, subsurface storage and runoff generation. First, in comparison to pasture, forested catchments have more prolonged discharge despite presumably larger losses to evapotranspiration, suggesting greater storage and drainable porosity in the subsurface [1]. Second, despite evidence of greater storage and porosity in forested catchments, overland flow has been documented in forested areas resulting in rapid, yet transient, hydrological connectivity between hillslopes and streams [4]. These combined findings suggest complex feedbacks among land-use, soil structure, infiltration, and runoff. Because these complex feedbacks are poorly understood, the goal of my proposed research is to quantify the impact of land-use practices on runoff generation mechanisms within the Panama Canal Watershed (PCW). \n",
    "\n",
    "I hypothesize: \n",
    "1. Land-use changes affect bioturbation of the shallow subsurface and consequently soil structure, resulting in transformation of subsurface flow paths and storage (i.e. mature forests create preferential flowpaths and increase storage); \n",
    "\n",
    "2. Due to the contraction and expansion of soil cracks in clay-rich tropical soils, water runoff pathways via overland flow versus subsurface flow are primarily dependent on antecedent soil moisture conditions and rainfall intensity; however, overland flow will decrease with increased bioturbation (i.e. overland flow will be less prevalent in mature forests than in pastures)."
   ]
  },
  {
   "cell_type": "markdown",
   "metadata": {},
   "source": [
    "INSERT WATERSHED FIGURE HERE"
   ]
  },
  {
   "cell_type": "markdown",
   "metadata": {},
   "source": [
    "### Project Objectives"
   ]
  },
  {
   "cell_type": "markdown",
   "metadata": {
    "collapsed": true
   },
   "source": [
    "The above hypotheses will be tested by:\n",
    "1. Designing and implementing a system to concurrently measure overland flow and infiltration (Difference Infiltrometer shown below)  \n",
    "2. Using water chemistry to characterize water flowpaths and storage and \n",
    "3. Integrating plot and catchment scale data using numerical models. Current paradoxes will be addressed by comparing infiltration rates, overland flow, and subsurface flow path variability between pasture and forested catchments within the PCW. "
   ]
  },
  {
   "cell_type": "markdown",
   "metadata": {},
   "source": [
    "INSERT PHOTO OF DIFFERENCE INFILTROMETER HERE"
   ]
  },
  {
   "cell_type": "markdown",
   "metadata": {},
   "source": [
    "## Methods"
   ]
  },
  {
   "cell_type": "markdown",
   "metadata": {},
   "source": [
    "### Field Methods "
   ]
  },
  {
   "cell_type": "markdown",
   "metadata": {},
   "source": [
    "Fieldwork took place within paired catchments of the Agua Salud Project managed by the Smithsonian Tropical Research Institute (STRI) during the summer of 2016.  "
   ]
  },
  {
   "cell_type": "markdown",
   "metadata": {},
   "source": [
    "### Data Analysis"
   ]
  },
  {
   "cell_type": "markdown",
   "metadata": {},
   "source": [
    "Data analysis in this notebook deals exclusively with Project Objective 1, so only precipitation and runoff data from the Mature Forest and Pasture field sites will be dealt with here: \n",
    "\n",
    "Data sources: \n",
    "1. Precipitation data at 5 minute resolution.\n",
    "2. Runoff data collected using an Odyssey Level Logger at 10 minute resolution. \n",
    "3. Runoff data collected using a high-intensity tipping bucket rain gauge measuring flow off of a plot with a known area (See image of difference infiltrometer system above).\n",
    "4. Precipitation data from 2016 from nearby field sites (used to cross reference my data). \n",
    "5. Precipitation data from 2015 from nearby field sites (used to cross reference my data)."
   ]
  },
  {
   "cell_type": "code",
   "execution_count": 6,
   "metadata": {
    "collapsed": false
   },
   "outputs": [],
   "source": [
    "% Add folders and subfolders with data to path\n",
    "addpath(genpath('Thesis Data'))\n",
    "\n",
    "% Run a script completed in Matlab already just to test we can do this. \n",
    "SaveMATPrecip\n"
   ]
  },
  {
   "cell_type": "markdown",
   "metadata": {},
   "source": [
    "## Results & Discussion "
   ]
  },
  {
   "cell_type": "code",
   "execution_count": null,
   "metadata": {
    "collapsed": true
   },
   "outputs": [],
   "source": []
  },
  {
   "cell_type": "markdown",
   "metadata": {},
   "source": [
    "## Conclusions "
   ]
  },
  {
   "cell_type": "markdown",
   "metadata": {},
   "source": [
    "### References"
   ]
  },
  {
   "cell_type": "markdown",
   "metadata": {},
   "source": [
    "[1] Ogden, F. L., Crouch, T. D., Stallard, R. F., Hall, J. S. 2013. Effect of land cover and use on dry\n",
    "season river runoff, runoff efficiency, and peak storm runoff in the seasonal tropics of Central Panama. Water Res.\n",
    "Research, 49(12), 8443–8462. \n",
    "\n",
    "[2] Salin, D. L. 2010. Impact of Panama Canal Expansion on the U.S. Intermodal\n",
    "System, (January). \n",
    "\n",
    "[3] Wetzel, R. G., Hatcher, P. G., Bianchi, T. S. 1995. Natural photolysis by ultraviolet irradiance\n",
    "of recalcitrant dissolved organic matter to simple substrates for rapid bacterial metabolism. Limnology and\n",
    "Oceanography, 40(8), 1369–1380. \n",
    "\n",
    "[4] Zimmermann, B., Zimmermann, A., Turner, B. L., Francke, T., Elsenbeer, H.\n",
    "2014.Connectivity of overland flow by drainage network expansion in a rain forest catchment. Water Res.\n",
    "Research, 2108–2123."
   ]
  }
 ],
 "metadata": {
  "kernelspec": {
   "display_name": "Matlab",
   "language": "matlab",
   "name": "matlab"
  },
  "language_info": {
   "codemirror_mode": "octave",
   "file_extension": ".m",
   "help_links": [
    {
     "text": "MetaKernel Magics",
     "url": "https://github.com/calysto/metakernel/blob/master/metakernel/magics/README.md"
    }
   ],
   "mimetype": "text/x-octave",
   "name": "matlab",
   "version": "0.11.0"
  }
 },
 "nbformat": 4,
 "nbformat_minor": 0
}
