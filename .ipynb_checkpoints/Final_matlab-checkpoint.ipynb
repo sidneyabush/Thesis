{
 "cells": [
  {
   "cell_type": "markdown",
   "metadata": {},
   "source": [
    "# STA Final Project\n",
    "## Impact of land-use change on runoff generation within the Panama Canal Watershed\n",
    "Sidney Bush\n",
    "December 13, 2016"
   ]
  },
  {
   "cell_type": "markdown",
   "metadata": {},
   "source": [
    "## Introduction "
   ]
  },
  {
   "cell_type": "markdown",
   "metadata": {},
   "source": [
    "### Project Background"
   ]
  },
  {
   "cell_type": "markdown",
   "metadata": {},
   "source": [
    "Since European development in the tropics, land-use and land-cover have changed dramatically with conversion of forests to subsistence farms and cattle pastures (1). Human land-use decisions alter vegetation and soil structure that determine hydrologic flow paths and storage; however, the impacts of land-use change on water quality and quantity remain poorly understood. In many tropical regions anthropogenic water shortages are already common, and there is a high likelihood of further stress from longer dry seasons and more frequent, high intensity storms caused by accelerating climate change. Research in Panama, an area exemplary of land-use change in the tropics, presents two paradoxes regarding the connections between land-use, subsurface storage and runoff generation. First, in comparison to pasture, forested catchments have more prolonged discharge despite presumably larger losses to evapotranspiration, suggesting greater storage and drainable porosity in the subsurface1. Second, despite evidence of greater storage and porosity in forested catchments, overland flow has been documented in forested areas resulting in rapid, yet transient, hydrological connectivity between hillslopes and streams (4). These combined findings suggest complex feedbacks among land-use, soil structure, infiltration, and runoff. Because these complex feedbacks are poorly understood, the goal of my proposed research is to quantify the impact of land-use practices on runoff generation mechanisms within the Panama Canal Watershed (PCW). I hypothesize: 1)Land-use changes affect bioturbation of the shallow subsurface and consequently soil structure, resulting in transformation of subsurface flow paths and storage (i.e. mature forests create preferential flowpaths and increase storage); 2) Due to the contraction and expansion of soil cracks in clay-rich tropical soils, water runoff pathways via overland flow versus subsurface flow are primarily dependent on antecedent soil moisture conditions and rainfall intensity; however, overland flow will decrease with increased bioturbation (i.e. overland flow will be less prevalent in mature forests than in pastures)."
   ]
  },
  {
   "cell_type": "code",
   "execution_count": null,
   "metadata": {
    "collapsed": true
   },
   "outputs": [],
   "source": []
  },
  {
   "cell_type": "markdown",
   "metadata": {},
   "source": [
    "## Methods"
   ]
  },
  {
   "cell_type": "markdown",
   "metadata": {},
   "source": [
    "Data were collected from the Agua Salud Watershed in Panama during the summer of 2016. Field site "
   ]
  },
  {
   "cell_type": "code",
   "execution_count": null,
   "metadata": {
    "collapsed": true
   },
   "outputs": [],
   "source": [
    "% "
   ]
  },
  {
   "cell_type": "markdown",
   "metadata": {},
   "source": [
    "## Results & Discussion "
   ]
  },
  {
   "cell_type": "code",
   "execution_count": null,
   "metadata": {
    "collapsed": true
   },
   "outputs": [],
   "source": []
  },
  {
   "cell_type": "markdown",
   "metadata": {},
   "source": [
    "## Conclusions "
   ]
  },
  {
   "cell_type": "markdown",
   "metadata": {},
   "source": [
    "### References"
   ]
  },
  {
   "cell_type": "markdown",
   "metadata": {},
   "source": [
    "[1] Ogden, F. L., Crouch, T. D., Stallard, R. F., Hall, J. S. 2013. Effect of land cover and use on dry\n",
    "season river runoff, runoff efficiency, and peak storm runoff in the seasonal tropics of Central Panama. Water Res.\n",
    "Research, 49(12), 8443–8462. \n",
    "\n",
    "[2] Salin, D. L. 2010. Impact of Panama Canal Expansion on the U.S. Intermodal\n",
    "System, (January). \n",
    "\n",
    "[3] Wetzel, R. G., Hatcher, P. G., Bianchi, T. S. 1995. Natural photolysis by ultraviolet irradiance\n",
    "of recalcitrant dissolved organic matter to simple substrates for rapid bacterial metabolism. Limnology and\n",
    "Oceanography, 40(8), 1369–1380. \n",
    "\n",
    "[4] Zimmermann, B., Zimmermann, A., Turner, B. L., Francke, T., Elsenbeer, H.\n",
    "2014.Connectivity of overland flow by drainage network expansion in a rain forest catchment. Water Res.\n",
    "Research, 2108–2123."
   ]
  }
 ],
 "metadata": {
  "kernelspec": {
   "display_name": "Matlab",
   "language": "matlab",
   "name": "matlab"
  },
  "language_info": {
   "codemirror_mode": "octave",
   "file_extension": ".m",
   "help_links": [
    {
     "text": "MetaKernel Magics",
     "url": "https://github.com/calysto/metakernel/blob/master/metakernel/magics/README.md"
    }
   ],
   "mimetype": "text/x-octave",
   "name": "matlab",
   "version": "0.11.0"
  }
 },
 "nbformat": 4,
 "nbformat_minor": 0
}
